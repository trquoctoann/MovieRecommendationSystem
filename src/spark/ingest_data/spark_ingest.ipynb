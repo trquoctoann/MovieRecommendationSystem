{
 "cells": [
  {
   "cell_type": "code",
   "execution_count": 1,
   "id": "5d5fe0d2-046a-4ed7-bfe4-c53d909b36d9",
   "metadata": {
    "tags": []
   },
   "outputs": [],
   "source": [
    "import os\n",
    "from pyspark.sql import SparkSession, functions\n",
    "from utilities.extract import get_today\n",
    "import csv"
   ]
  },
  {
   "cell_type": "code",
   "execution_count": 2,
   "id": "9c946e27-c639-47ec-8c58-cbf32c00353e",
   "metadata": {
    "tags": []
   },
   "outputs": [],
   "source": [
    "spark = SparkSession \\\n",
    "      .builder \\\n",
    "      .appName(\"Spark Ingestion\") \\\n",
    "      .getOrCreate()"
   ]
  },
  {
   "cell_type": "code",
   "execution_count": 3,
   "id": "d69f0330-e64d-4219-93e8-5eceeda62661",
   "metadata": {
    "tags": []
   },
   "outputs": [],
   "source": [
    "datasets_path = '/home/jovyan/raw_data'"
   ]
  },
  {
   "cell_type": "code",
   "execution_count": 4,
   "id": "d6ec6595-93e5-4d8c-a1ce-d20055e479dd",
   "metadata": {
    "tags": []
   },
   "outputs": [],
   "source": [
    "def ingest_movies_data() : \n",
    "    movies_file = os.path.join(datasets_path, get_today(), 'movies.csv')\n",
    "    if not os.path.exists(movies_file):\n",
    "        print(\"File does not exist\")\n",
    "        return \n",
    "    movies_raw_data = spark.sparkContext.textFile(movies_file).map(lambda line: next(csv.reader([line])))\n",
    "    movies_raw_data_header = movies_raw_data.take(1)[0]\n",
    "    movies_data = movies_raw_data.filter(lambda line: line!=movies_raw_data_header).map(lambda tokens: (tokens[0],tokens[1],tokens[2]))\n",
    "    movies_data = movies_data.toDF([\"movieId\", \"title\", \"genres\"])\n",
    "    movies_data.write \\\n",
    "              .mode(\"append\") \\\n",
    "              .format(\"jdbc\") \\\n",
    "              .option(\"driver\",\"com.mysql.cj.jdbc.Driver\") \\\n",
    "              .option(\"url\", \"jdbc:mysql://cap2-database/MovieLens\") \\\n",
    "              .option(\"dbtable\", \"movies\") \\\n",
    "              .option(\"user\", \"root\") \\\n",
    "              .option(\"password\", \"123\") \\\n",
    "              .save()\n",
    "    print(\"Ingest movies data successfully\")\n",
    "    return movies_raw_data"
   ]
  },
  {
   "cell_type": "code",
   "execution_count": 5,
   "id": "b687c434-a110-49dc-b4fc-27b5841b2ab4",
   "metadata": {
    "tags": []
   },
   "outputs": [],
   "source": [
    "def ingest_links_data():\n",
    "    links_file = os.path.join(datasets_path, get_today(), 'links.csv')\n",
    "    if not os.path.exists(links_file):\n",
    "        print(\"File does not exist\")\n",
    "        return \n",
    "    links_raw_data = spark.sparkContext.textFile(links_file)\n",
    "    links_raw_data_header = links_raw_data.take(1)[0]\n",
    "    links_data = links_raw_data.filter(lambda line: line!=links_raw_data_header)\\\n",
    "        .map(lambda line: line.split(\",\")).map(lambda tokens: (tokens[0],tokens[1],tokens[2]))\n",
    "    links_data = links_data.toDF([\"movieId\", \"imdbId\", \"tmdbId\"])\n",
    "    links_data.write \\\n",
    "              .mode(\"append\") \\\n",
    "              .format(\"jdbc\") \\\n",
    "              .option(\"driver\",\"com.mysql.cj.jdbc.Driver\") \\\n",
    "              .option(\"url\", \"jdbc:mysql://cap2-database/MovieLens\") \\\n",
    "              .option(\"dbtable\", \"links\") \\\n",
    "              .option(\"user\", \"root\") \\\n",
    "              .option(\"password\", \"123\") \\\n",
    "              .save()\n",
    "    print(\"Ingest links data successfully\")"
   ]
  },
  {
   "cell_type": "code",
   "execution_count": 6,
   "id": "e606d45c-09d6-40fa-8244-6763c56a08e8",
   "metadata": {
    "tags": []
   },
   "outputs": [],
   "source": [
    "def ingest_tags_data():\n",
    "    tags_file = os.path.join(datasets_path, get_today(), 'tags.csv')\n",
    "    if not os.path.exists(tags_file):\n",
    "        print(\"File does not exist\")\n",
    "        return \n",
    "    tags_raw_data = spark.sparkContext.textFile(tags_file)\n",
    "    tags_raw_data_header = tags_raw_data.take(1)[0]\n",
    "    tags_data = tags_raw_data.filter(lambda line: line!=tags_raw_data_header)\\\n",
    "        .map(lambda line: line.split(\",\")).map(lambda tokens: (tokens[0],tokens[1],tokens[2],tokens[3]))\n",
    "    tags_data = tags_data.toDF([\"userId\", \"movieId\", \"tag\", \"tagTime\"])\n",
    "    tags_data = tags_data.select(functions.col(\"userId\"), \\\n",
    "                                 functions.col(\"movieId\"), \\\n",
    "                                 functions.col(\"tag\"), \\\n",
    "                                 functions.from_unixtime(functions.col(\"tagTime\")).alias(\"tagTime\"))\n",
    "    tags_data.write \\\n",
    "              .mode(\"append\") \\\n",
    "              .format(\"jdbc\") \\\n",
    "              .option(\"driver\",\"com.mysql.cj.jdbc.Driver\") \\\n",
    "              .option(\"url\", \"jdbc:mysql://cap2-database/MovieLens\") \\\n",
    "              .option(\"dbtable\", \"tags\") \\\n",
    "              .option(\"user\", \"root\") \\\n",
    "              .option(\"password\", \"123\") \\\n",
    "              .save()\n",
    "    print(\"Ingest tags data successfully\")"
   ]
  },
  {
   "cell_type": "code",
   "execution_count": 7,
   "id": "71058049-7841-4fd0-b8e5-939709079b40",
   "metadata": {
    "tags": []
   },
   "outputs": [],
   "source": [
    "def ingest_ratings_data() : \n",
    "    ratings_file = os.path.join(datasets_path, get_today(), 'ratings.csv')\n",
    "    if not os.path.exists(ratings_file):\n",
    "        print(\"File does not exist\")\n",
    "        return \n",
    "    ratings_raw_data = spark.sparkContext.textFile(ratings_file)\n",
    "    ratings_raw_data_header = ratings_raw_data.take(1)[0]\n",
    "    ratings_data = ratings_raw_data.filter(lambda line: line!=ratings_raw_data_header)\\\n",
    "        .map(lambda line: line.split(\",\")).map(lambda tokens: (tokens[0],tokens[1],tokens[2],tokens[3]))\n",
    "    ratings_data = ratings_data.toDF([\"userId\", \"movieId\", \"ratingScore\", \"ratingTime\"])\n",
    "    ratings_data = ratings_data.select(functions.col(\"userId\"), \\\n",
    "                                       functions.col(\"movieId\"), \\\n",
    "                                       functions.col(\"ratingScore\"), \\\n",
    "                                       functions.from_unixtime(functions.col(\"ratingTime\")).alias(\"ratingTime\"))\n",
    "    ratings_data.write \\\n",
    "              .mode(\"append\") \\\n",
    "              .format(\"jdbc\") \\\n",
    "              .option(\"driver\",\"com.mysql.cj.jdbc.Driver\") \\\n",
    "              .option(\"url\", \"jdbc:mysql://cap2-database/MovieLens\") \\\n",
    "              .option(\"dbtable\", \"ratings\") \\\n",
    "              .option(\"user\", \"root\") \\\n",
    "              .option(\"password\", \"123\") \\\n",
    "              .save()\n",
    "    print(\"Ingest ratings data successfully\")"
   ]
  },
  {
   "cell_type": "code",
   "execution_count": null,
   "id": "2c07e263-8b03-4649-9009-079c75e2c799",
   "metadata": {
    "tags": []
   },
   "outputs": [
    {
     "name": "stdout",
     "output_type": "stream",
     "text": [
      "Ingest movies data successfully\n",
      "Ingest links data successfully\n",
      "Ingest tags data successfully\n"
     ]
    }
   ],
   "source": [
    "if __name__ == '__main__' : \n",
    "    ingest_movies_data()\n",
    "    ingest_links_data()\n",
    "    ingest_tags_data()\n",
    "    ingest_ratings_data()"
   ]
  },
  {
   "cell_type": "code",
   "execution_count": null,
   "id": "1aef77d9-85c0-4cef-b401-0027786a9d2b",
   "metadata": {},
   "outputs": [],
   "source": []
  }
 ],
 "metadata": {
  "kernelspec": {
   "display_name": "Python 3 (ipykernel)",
   "language": "python",
   "name": "python3"
  },
  "language_info": {
   "codemirror_mode": {
    "name": "ipython",
    "version": 3
   },
   "file_extension": ".py",
   "mimetype": "text/x-python",
   "name": "python",
   "nbconvert_exporter": "python",
   "pygments_lexer": "ipython3",
   "version": "3.10.9"
  }
 },
 "nbformat": 4,
 "nbformat_minor": 5
}
